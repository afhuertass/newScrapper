{
 "cells": [
  {
   "cell_type": "code",
   "execution_count": 1,
   "metadata": {},
   "outputs": [],
   "source": [
    "import pandas as pd\n",
    "import numpy as np\n",
    "\n"
   ]
  },
  {
   "cell_type": "code",
   "execution_count": 2,
   "metadata": {},
   "outputs": [],
   "source": [
    "df = pd.read_csv( \"../../newSemana.csv\" , encoding =\"utf-8\")\n",
    "df[\"dates\"] = df[\"dates\"].apply(lambda x : x.replace(\"|\" , \"\") )\n",
    "df[\"article\"] = df[\"article\"].apply(lambda x : x.replace(\"\\n\" , \"\") )\n",
    "df[\"article\"] = df[\"article\"].apply(lambda x : x.replace(\"\\r\" , \"\") )\n",
    "df[\"article\"] = df[\"article\"].apply(lambda x : x.replace(\"\\t\" , \"\") )\n",
    "#df[\"dates\"] = df[\"dates\"].apply(lambda x : x.replace(\" \" , \"\") )\n",
    "df[\"dates\"] = df[\"dates\"].apply(lambda x : x.split(\" \")[2] )\n",
    "df.loc[ : , \"dates\"] = pd.to_datetime( df[\"dates\"] , format = \"%m/%d/%Y\" , errors='coerce' )\n",
    "df = df.dropna( subset = [\"dates\"])"
   ]
  },
  {
   "cell_type": "code",
   "execution_count": 3,
   "metadata": {},
   "outputs": [
    {
     "data": {
      "text/html": [
       "<div>\n",
       "<style scoped>\n",
       "    .dataframe tbody tr th:only-of-type {\n",
       "        vertical-align: middle;\n",
       "    }\n",
       "\n",
       "    .dataframe tbody tr th {\n",
       "        vertical-align: top;\n",
       "    }\n",
       "\n",
       "    .dataframe thead th {\n",
       "        text-align: right;\n",
       "    }\n",
       "</style>\n",
       "<table border=\"1\" class=\"dataframe\">\n",
       "  <thead>\n",
       "    <tr style=\"text-align: right;\">\n",
       "      <th></th>\n",
       "      <th>Unnamed: 0</th>\n",
       "      <th>article</th>\n",
       "      <th>dates</th>\n",
       "    </tr>\n",
       "  </thead>\n",
       "  <tbody>\n",
       "    <tr>\n",
       "      <th>0</th>\n",
       "      <td>0</td>\n",
       "      <td>Fueron ocho las personas condenadas este juev...</td>\n",
       "      <td>2015-04-09</td>\n",
       "    </tr>\n",
       "    <tr>\n",
       "      <th>2</th>\n",
       "      <td>2</td>\n",
       "      <td>1.Oprima en la parte inferior derecha, el lug...</td>\n",
       "      <td>2014-01-30</td>\n",
       "    </tr>\n",
       "    <tr>\n",
       "      <th>3</th>\n",
       "      <td>3</td>\n",
       "      <td>Cuando Néstor Humberto Martínez intentó conven...</td>\n",
       "      <td>2016-06-15</td>\n",
       "    </tr>\n",
       "    <tr>\n",
       "      <th>4</th>\n",
       "      <td>4</td>\n",
       "      <td>SEMANA: ¿Qué es la novela negra?Rudolf Hommes:...</td>\n",
       "      <td>2014-11-22</td>\n",
       "    </tr>\n",
       "    <tr>\n",
       "      <th>5</th>\n",
       "      <td>5</td>\n",
       "      <td>Desde julio de 2013, Claro, Movistar, Tigo y ...</td>\n",
       "      <td>2014-10-02</td>\n",
       "    </tr>\n",
       "  </tbody>\n",
       "</table>\n",
       "</div>"
      ],
      "text/plain": [
       "   Unnamed: 0                                            article      dates\n",
       "0           0   Fueron ocho las personas condenadas este juev... 2015-04-09\n",
       "2           2   1.Oprima en la parte inferior derecha, el lug... 2014-01-30\n",
       "3           3  Cuando Néstor Humberto Martínez intentó conven... 2016-06-15\n",
       "4           4  SEMANA: ¿Qué es la novela negra?Rudolf Hommes:... 2014-11-22\n",
       "5           5   Desde julio de 2013, Claro, Movistar, Tigo y ... 2014-10-02"
      ]
     },
     "execution_count": 3,
     "metadata": {},
     "output_type": "execute_result"
    }
   ],
   "source": [
    "df.head()"
   ]
  },
  {
   "cell_type": "code",
   "execution_count": 4,
   "metadata": {},
   "outputs": [
    {
     "name": "stdout",
     "output_type": "stream",
     "text": [
      "escenográfico\n",
      "done processed:  100000\n",
      "concluded\n",
      "done processed:  200000\n",
      "nissl\n",
      "done processed:  300000\n",
      "octroyée\n",
      "done processed:  400000\n",
      "sheeqo\n",
      "done processed:  500000\n",
      "macroblastos\n",
      "done processed:  600000\n",
      "kamol\n",
      "done processed:  700000\n",
      "antonida\n",
      "done processed:  800000\n",
      "atent\n",
      "done processed:  900000\n",
      "vespucio\n",
      "done processed:  1000000\n",
      "done!\n"
     ]
    }
   ],
   "source": [
    "words_emb = {}\n",
    "\n",
    "with open('../../SBW-vectors-300-min5.txt', 'r') as fopen:\n",
    "    \n",
    "    first_line = fopen.readline()\n",
    "    next( fopen )\n",
    "    \n",
    "    for  n,line in enumerate(fopen):\n",
    "        #data.append(line)\n",
    "        \n",
    "        t = line.split(\" \")\n",
    "        vec = t[1:]\n",
    "        #print(vec)\n",
    "        #print(\"wtff\") \n",
    "        word = t[0].lower()\n",
    "        vec = [ float( val ) for val in vec ]\n",
    "        words_emb[word] = np.array(vec , np.float32 )\n",
    "        if (n + 1) % 100000 == 0:\n",
    "            print(word)\n",
    "            print('done processed: ', n + 1)\n",
    "            \n",
    "print('done!')"
   ]
  },
  {
   "cell_type": "code",
   "execution_count": 5,
   "metadata": {},
   "outputs": [],
   "source": [
    "df18 = df[ df[\"dates\"].dt.year == 2018 ]"
   ]
  },
  {
   "cell_type": "code",
   "execution_count": 6,
   "metadata": {},
   "outputs": [
    {
     "data": {
      "text/plain": [
       "(1576, 3)"
      ]
     },
     "execution_count": 6,
     "metadata": {},
     "output_type": "execute_result"
    }
   ],
   "source": [
    "df18.shape"
   ]
  },
  {
   "cell_type": "code",
   "execution_count": 7,
   "metadata": {},
   "outputs": [],
   "source": [
    "import nltk\n",
    "from nltk.corpus import stopwords\n",
    "from sklearn.metrics.pairwise import cosine_similarity\n",
    "import networkx as nx \n",
    "\n",
    "\n",
    "stop_words = stopwords.words(\"spanish\")\n",
    "\n",
    "def getSentences( df_m ):\n",
    "    # recibe el dataframe de un mes.\n",
    "    sentences = []\n",
    "    texto = \".\".join( df_m[\"article\"] ).lower()\n",
    "    sentences = nltk.sent_tokenize( texto )\n",
    "    sentences = [ x.replace(\"[^a-zA-Z]\", \" \")  for x in sentences ]\n",
    "    sentences = [ x.replace(\".\", \"\")  for x in sentences ]\n",
    "    \n",
    "    clean_sent  = [ remove_stopwords(s) for s in sentences ]\n",
    "    return sentences , clean_sent\n",
    "\n",
    "def remove_stopwords(sen):\n",
    "    tokens = sen.split(\" \")\n",
    "    \n",
    "    sen_new = \" \".join([i for i in tokens if i not in stop_words])          \n",
    "    return sen_new\n",
    "\n",
    "def getVectorSentence( clean_sentences ):\n",
    "    sentence_vectors = []\n",
    "    \n",
    "    for i in clean_sentences:\n",
    "        if len(i) != 0 :\n",
    "            v = sum( [ words_emb.get( w , np.zeros((300,) )   ) for w in i.split(\" \")    ])/len( i.split(\" \") )\n",
    "        else:\n",
    "            v = np.zeros( (300,))\n",
    "            \n",
    "        sentence_vectors.append( v )\n",
    "    return sentence_vectors \n",
    " \n",
    "def calcSimMatrix( vec_sentences ):\n",
    "    \n",
    "    M = np.zeros(  (  len(vec_sentences) , len(vec_sentences) ))\n",
    "    for i in range(len(vec_sentences)): \n",
    "        for j in range(len(vec_sentences)): \n",
    "            if i != j: \n",
    "                  M[i][j] = cosine_similarity( vec_sentences[i].reshape(1,300),vec_sentences[j].reshape(1,300))[0,0]\n",
    "                    \n",
    "    return M\n",
    "\n",
    "def textRank( M ):\n",
    "    \n",
    "    nx_graph = nx.from_numpy_matrix(M) \n",
    "    scores = nx.pagerank(nx_graph)\n",
    "    return scores \n",
    "    \n",
    "def getRank( scores , sentences , N = 10 ):\n",
    "    \n",
    "    ranked_sentences = sorted(  ((scores[i],s) for i,s in enumerate(sentences)), reverse=True)\n",
    "    \n",
    "    final = []\n",
    "    for i in range(N): \n",
    "          final.append(ranked_sentences[i][1])\n",
    "    return final\n",
    "\n",
    "def process( df ):\n",
    "    \n",
    "    print(\"--getting sentences\")\n",
    "    sentences , clean_sent = getSentences( df )\n",
    "    print(\"-- getting sentence vectors\")\n",
    "    vec_sentences = getVectorSentence( clean_sent )\n",
    "    \n",
    "    print(\"-- Calculating similarity matrix\")\n",
    "    M = calcSimMatrix( vec_sentences )\n",
    "    \n",
    "    print(\"-- Algoritm pageRank\")\n",
    "    scores = textRank(M)\n",
    "    summ = getRank( scores, sentences , 10 )\n",
    "    return summ\n",
    "            "
   ]
  },
  {
   "cell_type": "code",
   "execution_count": 8,
   "metadata": {},
   "outputs": [
    {
     "data": {
      "text/plain": [
       "(1576, 3)"
      ]
     },
     "execution_count": 8,
     "metadata": {},
     "output_type": "execute_result"
    }
   ],
   "source": [
    "df18.shape"
   ]
  },
  {
   "cell_type": "code",
   "execution_count": 9,
   "metadata": {},
   "outputs": [
    {
     "name": "stdout",
     "output_type": "stream",
     "text": [
      "--getting sentences\n",
      "-- getting sentence vectors\n",
      "-- Calculating similarity matrix\n",
      "-- Algoritm pageRank\n"
     ]
    }
   ],
   "source": [
    "aa = process( df18[:20] )"
   ]
  },
  {
   "cell_type": "code",
   "execution_count": 10,
   "metadata": {},
   "outputs": [],
   "source": [
    "months = set(  df18[\"dates\"].dt.month )"
   ]
  },
  {
   "cell_type": "code",
   "execution_count": 11,
   "metadata": {},
   "outputs": [
    {
     "data": {
      "text/plain": [
       "{1, 2, 3, 4, 5, 6, 7, 8, 9, 10}"
      ]
     },
     "execution_count": 11,
     "metadata": {},
     "output_type": "execute_result"
    }
   ],
   "source": [
    "months"
   ]
  },
  {
   "cell_type": "code",
   "execution_count": 12,
   "metadata": {},
   "outputs": [
    {
     "name": "stdout",
     "output_type": "stream",
     "text": [
      "Processing month: 1\n",
      "--getting sentences\n",
      "-- getting sentence vectors\n",
      "-- Calculating similarity matrix\n",
      "-- Algoritm pageRank\n",
      "Done!\n",
      "Processing month: 2\n",
      "--getting sentences\n",
      "-- getting sentence vectors\n",
      "-- Calculating similarity matrix\n",
      "-- Algoritm pageRank\n",
      "Done!\n",
      "Processing month: 3\n",
      "--getting sentences\n",
      "-- getting sentence vectors\n",
      "-- Calculating similarity matrix\n",
      "-- Algoritm pageRank\n",
      "Done!\n",
      "Processing month: 4\n",
      "--getting sentences\n",
      "-- getting sentence vectors\n",
      "-- Calculating similarity matrix\n",
      "-- Algoritm pageRank\n",
      "Done!\n",
      "Processing month: 5\n",
      "--getting sentences\n",
      "-- getting sentence vectors\n",
      "-- Calculating similarity matrix\n",
      "-- Algoritm pageRank\n",
      "Done!\n",
      "Processing month: 6\n",
      "--getting sentences\n",
      "-- getting sentence vectors\n",
      "-- Calculating similarity matrix\n",
      "-- Algoritm pageRank\n",
      "Done!\n",
      "Processing month: 7\n",
      "--getting sentences\n",
      "-- getting sentence vectors\n",
      "-- Calculating similarity matrix\n",
      "-- Algoritm pageRank\n",
      "Done!\n",
      "Processing month: 8\n",
      "--getting sentences\n",
      "-- getting sentence vectors\n",
      "-- Calculating similarity matrix\n",
      "-- Algoritm pageRank\n",
      "Done!\n",
      "Processing month: 9\n",
      "--getting sentences\n",
      "-- getting sentence vectors\n",
      "-- Calculating similarity matrix\n",
      "-- Algoritm pageRank\n",
      "Done!\n",
      "Processing month: 10\n",
      "--getting sentences\n",
      "-- getting sentence vectors\n",
      "-- Calculating similarity matrix\n",
      "-- Algoritm pageRank\n",
      "Done!\n"
     ]
    }
   ],
   "source": [
    "results_final = []\n",
    "for month in months:\n",
    "    print( \"Processing month: {}\".format(month ) )\n",
    "    dfm = df18[ df18[\"dates\"].dt.month == month ]\n",
    "    \n",
    "    result = process( dfm.sample(20) )\n",
    "    results_final.append( result )\n",
    "    print(\"Done!\")\n",
    " "
   ]
  },
  {
   "cell_type": "code",
   "execution_count": 15,
   "metadata": {},
   "outputs": [
    {
     "name": "stdout",
     "output_type": "stream",
     "text": [
      "Mes:0\n",
      "----------\n",
      "por ahora, sánchez permanece en venezuela a la espera de su extradición al país, donde deberá responder por la violación de más de 500 niñospuede leer: los testigos contra el lobo feroz no quieren declarar los grupos armados organizados, gao, o más conocidos como disidencias, se convirtieron en el principal dolor de cabeza de las autoridadesesas bandas delincuenciales que no son otra cosa que los militantes de las farc que no aceptaron la firma del proceso de paz, y como tal ni se desmovilizaron y mucho menos entregaron sus armas, están detrás de los recientes hechos de violencia que enlutaron al suroeste del paísla mayoría de esas disidencias se concentran en departamentos como nariño, cauca y valle, donde se calcula se desmovilizaron 3000 subversivos que integraban los míticos frentes 6, 29 y 30 que formaban el temido bloque occidental de las farcpuede leer: disidencia de las farc se van o se quedande ahí que desde el año pasado los colombianos vienen escuchando de nuevos grupos armados que tienen nombres tan exóticos como la gente del orden, guerrillas unidas del pacífico u aquellos que sencillamente se hacen llamar con el alias de su líder, tales como el burro, la vaca, pija, el enano y sábaloun informe de la fundación paz y reconciliación, pares, reveló que solo entre nariño, cauca y valle se habla de al menos siete organizaciones disidentes enfrascados en una guerra a muerte por los territorios donde antes hacía presencia las farca raíz de ese antecedente y los constantes enfrentamientos en zonas rurales de esa región del país (en la más reciente alerta de la defensoría se habló de mil desplazados este año), es que las autoridades decidieron tomar cartas en el asunto y combatir a las disidenciasle puede interesar: así cayó euclides mora el número dos de la disidencia de las farcuna de las acciones más rimbombantes fue la de hace un par de semanas cuando 10000 hombres del ejército se tomaron el puerto nariñense de tumaco\n",
      "----------\n",
      "hasta el cierre de esta nota las autoridades aún intentaban esclarecer los hechos y determinar los móviles y autores de semejante masacrepor ahora, lo único que se atreven a especular las autoridades, es que en esa región antioqueña hacen presencia el eln y la banda criminal conocida como el clan del golfo, tal como lo informó a medios regionales el coronel carlos sierra, comandante de policía del departamentopuede leer: masacre en yarumal apunta a disputa entre bandas criminalespo su parte, julio areiza palacio, alcalde de yarumal, le dijo al periódico el colombiano, que la única víctima identificada hasta el momento, es un hombre que era el esposo de la dueña del estadero donde sucedió la masacreadsdisplay('robapagina_mobile');  if (adsiteminsection) { adsdisplay('in_text'); }  caso contrario sucede con la incursión sicarial ocurrida en el corregimiento el plateado, de argelia cauca, donde desde un comienzo se conocieron los nombres de las víctimas fatales y de los heridosen ese caserío se desarrollaban los carnavales, cuando varios hombres armados abrieron fuego contra un grupo de personas\n",
      "----------\n",
      "no dejaré que un hombre y los otros que lo permitieron roben mi amor y alegría\", añadióotras tres exatletas olímpicas estadounidenses han acusado a nassar de haber abusado sexualmente de ellas siendo niñas bajo el engaño de nassar de que tenía que practicarles tratamientos médicosentre esas víctimas está gabby douglas, quien ganó la medalla de oro junto a biles en las competencias por equipos de los juegos olímpicos de río 2016los abogados de nassar dijeron a la bbc que no harían comentarios sobre la declaración de bilesadsdisplay('robapagina_mobile');  if (adsiteminsection) { adsdisplay('in_text'); }  ¿quién es larry nassar?el médico larry nassar, hoy de 54 años, participó en el programa de gimnasia de estados unidos desde la década de 1980 hasta julio de 2015, cuando el cuerpo rector nacional de este deporte lo despidióestuvo involucrado en la preparación de gimnastas para cuatro ediciones de los juegos olímpicosmás de 130 mujeres han presentado demandas civiles contra él alegando abusosnassar fue encarcelado en diciembre por tres cargos relacionados con la posesión de imágenes de abuso sexual infantil que fueron encontradas en su computadorafue condenado a 60 años de prisión, pero aún le esperan dos sentencias más que serán anunciadas este mes por otros dos casos en los que admitió haber abusado de deportistasse declaró culpable de siete cargos de abusos sexuales contra mujeres y niñas que habrían ocurrido mientras trabajaba como facultativo para el combinado estadounidense y en la universidad de michigansu caso también hizo que hace unos meses el presidente de la federación de gimnasia de eeuu, steve penny, renunciara a su cargo\n",
      "Mes:1\n",
      "----------\n",
      "vea en dos minutos un resumen de los resultados de la encuesta:de hecho, la consulta de la izquierda, que se llevará a cabo el 11 de marzo, estará compuesta por petro (con el puesto 1 en el tarjetón) y caicedo (con el 2), quienes son cercanos ideológicamente y coinciden, además, en que ambos militaron en algún momento de sus vidas en alguna guerrilla, pero ambos optaron por la desmovilización y regresar a la lucha democráticapuede leer: petro se trepa al primer lugar en intención de voto en la gran encuestasin embargo, la encuesta refleja que mientras gustavo petro es una de las figuras políticas más reconocidas del país, carlos caicedo es una figura relativamente nueva en la arena pública\n",
      "----------\n",
      "en el cuarto piso del complejo judicial de paloquemao, en bogotá, se encuentra el despacho de la fiscalía al que le correspondió la misión de recolectar las evidencias del caso de andrea cabrera, la joven hija del general retirado del ejército fabricio cabrera, muerta hace dos semanas en circunstancias que están por aclararsela fiscal que adelanta la investigación ha escuchado en los últimos días, en declaración jurada, a todas las personas que departieron con andrea la noche de rumba en que terminó muerta\n",
      "----------\n",
      "para daniel suárez, líder del colectivo ambiental aire medellín, el pacto es “etéreo, carente de métricas y sin posibilidad de verificar su cumplimiento, pues el hecho de ser voluntario y sin fecha de medición de los resultados deja abierta la opción de que se cumpla o no”este año, representantes de grupos ambientalistas mostraron su descontento porque no fueron tenidos en cuenta para aportar a los compromisos, después de que el federico gutiérrez les propuso trabajar juntos\n",
      "Mes:2\n",
      "----------\n",
      "y no era para menospor primera vez 30 de ellas pueden darse el lujo de decir “tenemos tierra”, tal como lo afirmó gloria amanda soto, una pasqueña de 46 años que, junto a emilce benavides, desde hace siete años se echó sobre sus hombros la causa de sus otras 28 compañeras de lucha“hoy damos por terminado este proyecto con toda la satisfacción del mundo”, dijo soto con la voz entrecortada cuando se le preguntó por el significado para ella y sus familiares de que a partir de la fecha son propietarios de una parcela de un par de hectáreas para sembrar morapuede leer: una segunda oportunidad sobre la tierrael acto de entrega de 60 hectáreas para las 30 mujeres de pasca, que se hizo dos días antes del día internacional de la mujer, se celebró en la finca florida blanca y estuvo encabezado por el director de la agencia nacional de tierras, miguel samper strouss, quien no ahorró elogios para las valientes mujeres de las que dijo son un ejemplo para el país“ustedes son las grandes protagonistas de esta historia (…) los hombres tenemos que reconocer que las mujeres son más ordenadas y disciplinadas que nosotros”, enfatizó el funcionario ante unas 250 personas que se acomodaron en un establo acondicionado para el eventola historia de los subsidios integrales de reforma agraria para las campesinas de pasca nació cuando a emilce benavides se le ocurrió una pregunta con reproche incluido: “¿por qué las mujeres no tenemos derecho a tener tierra (…) y sobre todo si somos campesinas?”entonces el trámite del quijotesco proyecto de benavides, soto y compañía se inició ante el desaparecido instituto colombiano de desarrollo rural o incoder\n",
      "----------\n",
      "mientras que sus críticos dicen que la empresa inflaba las cifras y registraba más personas de las que tenía, otros señalan que al irse a esos lugares incursionó en un negocio más lucrativo, pues sus usuarios, al tener una baja educación, demandaban muy pocos servicios médicos, lo que terminó por generar unos altos dividendospuede interesarle: muerte política de holger díaz revive el escándalo de saludcoopcomo el esquema cooperativo no permite repartir los excedentes, la estrategia de saludcoop a partir de 2001 fue usar esos recursos para crear empresas alrededor de la salud\n",
      "----------\n",
      "este reconocido opositor al presidente rafael correa, quien estuvo exiliado en colombia durante tres años y próximo al círculo del expresidente uribe, es el protagonista de un oscuro episodio que ha pasado desapercibido, pero que podría llegar a tener graves repercusiones en las relaciones entre colombia y ecuadordurante meses, miembros de la inteligencia ecuatoriana realizaron labores encubiertas en territorio colombiano, se aliaron con un suboficial del ejército colombiano, contrataron delincuentes e intentaron secuestrar el año pasado a balda en pleno norte de bogotá, con el fin de llevárselo a ecuador\n",
      "Mes:3\n",
      "----------\n",
      "a las 5 de la mañana, el primer canto de los gallos y los cotorreos de las guacamayas y loras marcan el inicio de la vida en belén de bajirá, un pueblo con cerca de 200000 hectáreas, 19 barrios y más de 5 mil casas que saltó a la fama por una eterna disputa limítrofe entre los departamentos de antioquia y chocócon una oscuridad perpetua que espera ser interrumpida, los 16 mil habitantes de este corregimiento, que según el instituto geográfico agustín codazzi (igac) le pertenece al municipio chocano de riosucio, salen poco a poco de sus viviendas de fachadas envejecidas, para dirigirse hacia sus sitios de trabajoya sea a pie, en bicicleta, moto o carro, los beleños deben enfrentarse primero con el pésimo estado de las vías y andenes, lo que los obliga a realizar toda clase de maniobras y maromas para no quedar enterrados entre el fango, los charcos, las piedras y el barro que componen las calles del casco urbano, en donde aún se desconoce lo que es el pavimentoantes de tomar rumbo hacia el extenso campo o a la movida zona comercial, la mayoría de pobladores se detiene en el parque central para tomar la primera taza de café en alguno los 22 kioskos de madera ubicados bajo la sobra de 15 frondosos árboles como ceibas, almendros y melinas, y así ponerse al tanto con los últimos acontecimientosmaría guillermina, una mujer de 58 años, es una de las primeras vendedoras que llega al parque para abrir las puertas de su caseta\n",
      "----------\n",
      "a 11 a veces no llegan más de siete”la salud también está divida en dos: un centro médico de antioquia y otro de chocó, que no dan abasto para atender a los más de 16 mil habitantes del corregimiento, pues carecen del personal capacitado y los instrumentos necesarios para las emergenciascuando se presenta un caso crítico, que requiere de cirugía o atención de un especialista, los pacientes son remitidos al hospital de apartadó, ubicado a casi dos horas de belén de bajirá, en la única ambulancia que hay, que le pertenece al centro médico chocoanoyurady horeda, coordinadora del centro de chocó, dice que además de las picaduras de culebra, infecciones en la piel, crisis de hipertensión y diabetes, la principal causa de atención en el corregimiento son los abortos en adolescentes“en sus casas, las niñas toman hierbas para interrumpir los embarazos\n",
      "----------\n",
      "así se fue consolidando el corregimiento, pero cogió alas hace 15 años con la crecida del comercio y los cultivos”según maría, la desigualdad es bien marcada en belén de bajirá: la pobreza de la parte urbana, representada en una cobertura del 50 por ciento en energía, 32 por ciento en alcantarillado y solo 2,4 por ciento en acueducto, contrasta con la riqueza que producen los cultivos y la ganaderíapuede leer: belén de bajirá: la pelea está lejos de terminar“en todos los años que llevó acá no se ha hecho mucho por pavimentar las calles o mejorar la cobertura de los servicios públicos, por eso está así de pobre\n",
      "Mes:4\n",
      "----------\n",
      "\"la capital de argentina es una ciudad dinámica con oportunidades cada vez mayores para estudiantes y graduados internacionales\", dice la página web de este grupola organización agrega que \"las universidades argentinas son reconocidas en américa latina por la calidad de los graduados que producen\" y destaca que nueve universidades de buenos aires aparezcan en el ranking de las mejores del mundo, aunque a partir del puesto 75, que ocupa la universidad de buenos airessin embargo, buenos aires obtuvo un puntaje bajo en \"deseabilidad\", debido a la pobreza y falta de calidad de vida que aún afecta a muchas partes de la ciudadmejores ciudades para estudiar en 2018londrestokiomelbournemontrealparísmúnichberlínzúrichsidneyseúlvienahong kongtorontobostonsingapuredimburgovancouvernueva yorkkioto-osaka-kobetaipeibrisbanecamberraaucklandmanchesterbuenos airespekínámsterdammoscúshangáipragafoto: getty images vía bbcotras ciudadeslas universidades de estados unidos ocupan las cuatro primeras casillas en las listas del ranking mundial de universidades, también de qsel número uno en esta tabla es el instituto de tecnología de massachusetts (mit)puede leer: universidades imposibles de pagarpero las ciudades que acogen a estas universidades prestigiosas no obtuvieron resultados tan altos: boston y nueva york están en los puestos 14 y 18, respectivamenteparís, que durante varios años fue la ciudad mejor valorada, bajó al quinto lugaren términos de las ciudades estudiantiles más accesibles por su costo de vida, budapest, en hungría, está clasificada como la mejor, seguida por kuala lumpur, en malasia\n",
      "----------\n",
      "jessica kiang, de variety, dijo en ese mismo medio que era una obra maestra y que había tenido “la ovación de pie más larga en la quincena desde el abrazo de la serpiente”en the guardian, jordan hoffman le puso cuatro estrellas (de cinco)  y dijo que aunque desde un punto de vista muy reducido se trataba de otra película sobre narcotráfico,  el enfoque de los directores (sobre todo familiar) la hacía única: “si guerra y gallego quieren continuar con este punto de vista, todos deberíamos darles la bienvenida”adsdisplay('robapagina_mobile');  if (adsiteminsection) { adsdisplay('in_text'); }  también le puede interesar: ‘candelaria‘, otra película colombiana que sigue cosechando premiosmuchos otros han destacado ese mismo punto: a pesar de que el tema del narcotráfico en colombia ha saturado la televisión y el cine (solo hay que pensar en narcos, de netflix, o en todas las películas sobre pablo escobar), ciro y cristina logran contar algo que nadie más ha contado y desde un enfoque distinto: el inicio del negocio de la marihuana, visto desde el cariz de la cultura wayúu y sus tradiciones\n",
      "----------\n",
      "la ausencia de carvajal es compleja, debido a que  nacho todavía en la última fase de recuperación de su lesión muscular, el francés solo dispone del joven marroquí de 19 años achraf hakimi como lateral derecho habitualuno de los partidos más llamativos del año a nivel de clubes y que tendrá a los colombianos al borde de sus asientos a la espera de una buena actuación de su compatriota en su anterior casa\n",
      "Mes:5\n",
      "----------\n",
      "la imagen del candidato de la colombia humana llenando plazas por todo el país, incluyendo la plaza de bolívar a la que asistieron casi 60000 personas durante el cierre de campaña, fue el motor para que el 27 de mayo lograra la votación más importante de la historia para un candidato de izquierdacampañas de gustavo petro e iván duquepero detrás de esos nada despreciables 5 millones de votos, había un potencial electoral que petro necesitaba conquistar para segunda vuelta; esos votantes (del centro y la exigua derecha no uribista) que al ver los ríos de gente en las pantallas solo podían temer de una colombia que le siguiera los pasos a venezuela\n",
      "----------\n",
      "tal vez ni siquiera gustavo petro había imaginado, al lanzar su candidatura presidencial, que iba a superar los 8 millones de sufragios y que triplicaría la más alta votación obtenida por la izquierda, en cabeza de carlos gaviria, quien alcanzó 2,5 millones en 2006 menos aún habría pensado que con semejante cifra –suficiente para elegir presidentes en el pasado– saldría derrotado, y por un margen tan apreciable como el que le sacó iván duque, cercano a los 2,5 millones de votospara leer este artículo completo:suscríbaseingreseeste contenido hace parte de nuestra edición impresa: exclusiva para suscriptores\n",
      "----------\n",
      "quizás, por todo ello, en esta contienda democrática el candidato gustavo petro se dio el lujo de reconocer su derrota presidencial, pero a su vez soñar con una nueva fuerza política que le permitirá afirmar que, al menos en el suroeste colombiano: perder es ganartinto para petrosi bien petro perdió en el eje cafetero, allí hay otra paradoja electoral, ya que justamente en esa región aumentó sus votos de manera sorprendente\n",
      "Mes:6\n",
      "----------\n",
      "ordena también investigar qué ocurrió en la sala de interceptación esperanza de la fiscalía por dos razones: 1) cómo se esfumaron algunas conversaciones clave y 2) establecer quién filtró la información reservada a uribeasí mismo, impartió instrucciones para que el inpec reforzara la seguridad de los presos testigos juan monsalve pineda y pablo hernán sierra, al mismo tiempo que ordena apertura de investigación por falso testimonio contra alias simón y alias castañeda, los contratestigos de uribeaunque el alto tribunal había ordenado reforzar la seguridad de otro de los testigos citados en este fallo, la de carlos areiza, este fue asesinado en abril de este año en las calles de bello, antioquiapor otra parte, la corte ordenó una inspección a todos los procesos en los que monsalve y sierra han rendido declaraciones, pues causa extrañeza que esos expedientes, luego de varios años, no tengan conclusiones\n",
      "----------\n",
      "puede ver: sueño cumplido: shakira volverá a cantar en barranquillael show las puertas del metropolitano estarán abiertas desde las 5 pm para recibir a los compradores de las 27000 boletas ofrecidas por la organización para la ceremonia, que tuvieron valores que oscilaron entre los 65000 y los 350000 pesosa partir de las 8 pm, los asistentes verán un espectáculo basado en el libro barranquilla 2132 del bogotano josé osorio, escrito en 1932 y que narra una historia de avances tecnológicos y desarrollo, que hoy busca significar los pasos que ha dado la capital atlanticense hacia la modernidad\n",
      "----------\n",
      "en palabras del propio tribunal, se inició “una ardua y dispendiosa actividad probatoria, de oficio y a solicitud de las partes”, acompañada de varias “actuaciones reservadas” que incluyeron interceptaciones a los testigos así como seguimientos a varios personajesen sus descargos el senador cepeda dijo que no había ido a las cárceles del país a buscar testigos, sino que las visitó durante un par de años como integrante de la comisión de derechos humanos del congreso, para observar problemáticas como el hacinamiento, y que al respecto hizo debates de control político recopilando 270 testimonios de los internos\n",
      "Mes:7\n",
      "----------\n",
      "el audio, difundido por varios medios locales, en el que puede escucharse a un hombre que se identifica como \"comandante uriel\" y que mantiene una breve conversación con los cuatro hombres secuestrados, en la que afirma que su liberación \"es cuestión de días\"los secuestrados son el intendente wilber rentería, el subintendente luis carlos torres montoya y el patrullero yemilson leandro gómez correa, de la policía; el soldado profesional jesús alberto ramírez silva y dos civiles cuyos nombres no fueron suministradostodos ellos se desplazaban en un bote por el río arquía que navegaba entre vidrí, en el departamento de antioquia (noroeste), y quibdó, capital del chocó (oeste), cuando fueron secuestrados en el corregimiento (aldea) de tagachí, que forma parte de quibdóle recomendamos: eln reconoce que tiene en su poder a militares y contratistasel primero en tomar la palabra es el soldado ramírez silva, que padece una enfermedad tropical y que aseguró estar en buen estado de salud\n",
      "----------\n",
      "juana alicia ruiz, lideresa del colectivo, dice que ya no quieren ser reconocidas como víctimas sino como emprendedoras, porque los tejidos, así como la paz, deben ser sosteniblesel arte fue por mucho tiempo la forma de visibilizar su tragedia y de luchar por sus derechos, pero hoy, en el vi salón bat, es la forma de construir paz, de reclamar dignidad y de reivindicar su lugar en la sociedad\n",
      "----------\n",
      "se podría decir que samper, columnista de semana, cambió la forma de hacer política en colombia y le dio un empujón enorme a esa causa, especialmente entre la gente joven, con lo que quedó demostrado que el país ha cambiado y ahora la política hay que hacerla de otra formaen contexto: consulta anticorrupción: el primer desencuentro duque-uribeel presidente duqueaunque su partido, el centro democrático, se echó atrás en su respaldo a la consulta anticorrupción (apoyaron la convocatoria en el senado, pero ya no la votación), el presidente duque mantuvo su palabra, votó a favor de la iniciativa e invitó a votar a favor de ella\n",
      "Mes:8\n",
      "----------\n",
      "esta temporada finaliza el préstamo a dos años del mediocampista y su club actual quiere resolver el futuro de uno de sus futbolistas más importantesel conjunto bávaro tiene una opción de compra por 43 millones de euros que es unilateral y está interesado en ejercerla para quedarse con el colombiano que se ha convertido en una verdadera ganga después de su salida del real madridadsdisplay('robapagina_mobile');  if (adsiteminsection) { adsdisplay('in_text'); }  el problema para el bayern es que está interesado en llegar a un acuerdo de contrato con el jugador pero aún no lo ha logrado por lo que el club estaría buscando una reunión con jorge mendes, el agente de james, antes del mercado de fichajes de inviernoel objetivo de este encuentro sería conocer el interés de james y sus condiciones para mantenerse un múnich por los próximos añossea cual sea el resultado de la reunión, el múnich estaría determinado a hacer uso de la opción de compra y en caso de que el colombiano no quiera mantenerse en el club buscaría una nueva transacción que le generaría importantes gananciashasta ahora el colombiano se ha mostrado feliz en múnich\n",
      "----------\n",
      "junto con antonella farrah y óscar torres, pereira se comprometió a firmar un compromiso de seis puntos en el que se les exige transparencia, acompañamiento a los ciudadanos, presentar declaraciones de renta, revelar las relaciones que tengan en cargos públicos y combatir la corrupciónluego de realizar un proceso de entrevistas a ternados, he designado a pedrito tomás pereira, como alcalde de #cartagena\n",
      "----------\n",
      "dicha diligencia fue realizada en estados unidosadsdisplay('robapagina_mobile');  if (adsiteminsection) { adsdisplay('in_text'); }  también pone en conocimiento que a través de una carta, los hermanos calle serna pidieron unificar sus procesos de extinción de dominio y lavado de activos en cabeza de álvaro eduardo sarmiento con el argumento de que era la “persona designada para adelantar los acercamientos y negociaciones con calle serna y el grupo que lideró ‘los rastrojos’\n",
      "Mes:9\n",
      "----------\n",
      "y que, de momento y hasta que no haya un mayor acervo probatorio, no podía ir tras los socios de dicha firmale recomendamos: el tira y afloje en la elección de la junta directiva de triple aasí mismo, desde el ministerio público pidieron dejar claro por qué no se imputó a navarro el delito de peculado por apropiación, mucho más gravoso, pues considera que triple a, si bien es una empresa de mayoría de capital privado, la actuación de su gerente se asemeja a la de un servidor público de una entidad descentralizadarecién la semana pasada, triple a tuvo un remezón por cuenta de la toma de posesión de la sociedad de activos especiales (sae) como depositario de la participación mayoritaria de inassa (brazo de inversión en latinoamérica de la española canal de isabel ii) que fue embarcada y es objeto de extinción de dominio por parte de la fiscalía, configurando un complejo panorama para barranquilla que ve así intervenidas por el estado -como sucede con electricaribe- sus dos principales empresas de servicios públicos\n",
      "----------\n",
      "el fiscal general de la nación, néstor humberto martínez, emitió un sonoro “¿cómo?” cuando este viernes estaba en cartagena y conoció una foto en la que el gerente de distriseguridad -entidad que coordina los recursos tecnológicos y logísticos de seguridad en la ciudad-, víctor hugo arango, se le ve tomándose una selfi con la mujer señalada por la fiscalía como la mayor proxeneta de la ciudad, liliana campos puello, conocida como la madamela imagen fue lograda por el diario barranquillero el heraldo semanas atrás, durante la semana de actividades en el penal por cuenta de la festividad de la patrona de los reclusos, la virgen de las mercedes, en las que campos no solo concedió numerosas entrevistas a los medios de comunicación, sino se comportó como toda una celebridadpuede interesarle: declaraciones de la ‘madame’ a la prensa: un posible bumerán adsdisplay('robapagina_mobile');  if (adsiteminsection) { adsdisplay('in_text'); }  a esta mujer de 42 años, asegurada el pasado 2 de agosto tras su detención en la operación vesta i -en la que las autoridades capturaron en total a 18 personas-, la fiscalía le imputó los delitos de trata de personas, concierto para delinquir e inducción a la prostitución\n",
      "----------\n",
      "hace unas cuantas semanas la fiscalía había hecho un operativo en las instalaciones de la alcaldía para buscar información sobre la contratación que se estaba realizando en el municipio, pues varias denuncias señalaban que se estaban entregando contratos a empresas sin experiencia o que no tenían oficinas físicascomo semana lo había revelado el año pasado, garcía tenía unas conexiones más que extrañas con municipio del bajo cauca, por ejemplo caucasia\n"
     ]
    }
   ],
   "source": [
    "for m, r in enumerate( results_final ):\n",
    "    print( \"Mes:{}\".format( m ) )\n",
    "    for i in r[:3]:\n",
    "        print(  \"-\"*10)\n",
    "        print(i)\n",
    "        "
   ]
  },
  {
   "cell_type": "code",
   "execution_count": 64,
   "metadata": {},
   "outputs": [
    {
     "name": "stdout",
     "output_type": "stream",
     "text": [
      "-----------------\n",
      "también dejó 44 personas heridas, 12089 evacuadas de las cuales 3319 fueron llevadas a albergues, según precisa un balance dado este miércoles por la coordinadora para la reducción de desastres (conred), ente a cargo de la protección civila pesar de la condiciones adversas, cientos de rescatistas, policías y militares ingresaron a la ahora llamada \"zona 0\" para reanudar las tareas de búsqueda de desaparecidosun grupo de agentes de policía fue designado para marcar con tinta roja las viviendas que ya fueron revisadas en medio de la búsqueda de desaparecidosun nuevo deslave del coloso, de 3763 metros de altura y situado 35 km al suroeste de la capital, obligó la tarde del martes a suspender las labores de rescate de víctimas y siete comunidades de escuintla fueron evacuadas\n",
      "-----------------\n",
      "casi 200 desaparecidos\"ya tenemos un dato con nombres y de las localidades donde hay personas desaparecidas y tenemos el número que son 192\", dijo en rueda de prensa el secretario de la conred, sergio cabañasel funcionario por primera vez dio una cifra de desaparecidos, toda vez que desde el domingo se limitaba a decir que ignoraban ese dato mientras proseguían las labores de rescateadsdisplay('robapagina_mobile');  if (adsiteminsection) { adsdisplay('in_text'); }  no obstante, cabañas sostuvo que continuarían con las tareas de búsqueda pese a que las autoridades admitieron que será casi imposible hallar sobrevivientes debido a la naturaleza de la erupción, que arrasó el domingo principalmente el caserío san miguel los lotes y la aldea el rodeotambién puede leer: volcán de fuego vuelve a aumentar actividad en guatemala\"venimos en apoyo de las personas que verdaderamente están arriesgando su vida por las personas que están allí (desaparecidos)\", dijo a la afp gladys vian, ama de casa de 56 años miembro de la parroquia de una iglesia católica de escuintla que junto a otros miembros del municipio de san juan comalapa (oeste) distribuyeron a los socorristas pepián e hilachas, dos platos típicos de la comida guatemaltecacomentó que realizaron una colecta para preparar los alimentos en grandes ollas que trasladan en un camión, pero fueron detenidos a un 1 km de la zona de impacto, donde protección civil instaló un cordón para determinar si dan paso o no a las personasla entrevista se interrumpió porque fue notificada que podían continuar la marcha, en un día soleado después de una tormenta de lluvia que azotó la tarde del martes ese lugar\n",
      "-----------------\n",
      "lo que ha dicho el comité de ensambladoras de motos de la andi es que le preocupa los efectos que pueda traer con la prohibición“el 89% de las personas que adquieren motocicleta en bogotá pertenecen a los estratos 1, 2 y 3 el 8% de los bogotanos se mueven en moto diariamente, casi el doble de personas que se mueven en taxi (4%) y muy similar a los que se mueven en bus colectivo (9%)”, aseguró la andi en un comunicado, en el que hicieron hincapié en la afectación a la calidad de vida en el corto plazo, así como la limitación de derechos como la libertad de locomoción o circulación, al trabajo, a la libre empresa, y a la igualdad\n",
      "-----------------\n",
      "se puede hacer pero es un tema casi de investigación (…) en cali uno encuentra que la medida sí sirve, en medellín las evaluaciones que ha hecho la propia administración a través del sistema de información de violencia y delincuencia muestra que no hay certeza, por las variables que han investigado no logrado demostrar que la medida del parrillero realmente contribuya a reducir los hurtos”, aseguró acerola medida podría funcionar los primeros meses, pero eso no garantiza que sea una solución permanente\n",
      "-----------------\n",
      "bajo esta modalidad de inversión se ha creado el fondo deco funding, el cual está aprobado por el servicio de ciudadanía e inmigración de los estados unidos (uscis, por sus siglas en inglés) para un máximo de 50 inversionistasa través de una participación de 550 mil dólares, los inversionistas se convierten en miembros del fondo de inversiones, y su capital se utiliza para financiar la compra y construcción de casas en el complejo landmark, ubicado en la ciudad de doral, en la florida\n",
      "-----------------\n",
      "“esto, sin lugar a dudas, es un factor diferencial para los inversionistas, ya que, a diferencia de otros proyectos similares, los riesgos de inversión por construcción se reducen significativamente”, puntualiza el abogado david j hartademás de su increíble ubicación, landmark ofrecerá a sus habitantes un clubhouse con una piscina de estilo resort para practicar natación o simplemente relajarse bajo el sol caribeño; un gimnasio equipado; comodidades que simplificarán la vida de todos los residentes, y la tranquilidad de vivir en una comunidad muy cerca de colegios, centros comerciales, restaurantes y el famoso trump international resort and spael complejo de viviendas ofrece apartamentos de estilo contemporáneo y casas de dos y tres pisos, algunas con increíbles terrazas para disfrutar del sol\n",
      "-----------------\n",
      "este dinero lo podrán utilizar para cubrir los gastos de sus abogados de inmigración (para acompañar el proceso de aplicación a la residencia), o utilizarlos a su llegada a los estados unidos como residente permanente condicional para alquilar una de las casas de landmark durante un añocon el fin de ampliar más la información, y acompañar a los inversionistas en la toma de esta importante decisión, el abogado david j hart estará liderando foros en colombia el próximo 5 de junio en la ciudad de bucaramanga, y los días 6 y 7 de junio en barranquilla\n",
      "-----------------\n",
      "allí todas las secretarías y sus funcionarios, instalados en carpas, resuelven dudas de la comunidad, reciben solicitudes y hacen trámites e informan acerca de programas y el avance de los proyectosesta iniciativa tiene dos partes: atender las nueve comunas urbanas y llegar hasta la zona rural, compuesta por 28 corregimientos\n",
      "-----------------\n",
      "con estas construcciones se generarán empleos directos para personas norteamericanas, uno de los requisitos por parte del gobierno estadounidense para aprobar estos proyectosel fondo inmobiliario deco funding fue creado por el abogado de inmigración david j hart, quien cuenta con más de 26 años de experiencia\n",
      "-----------------\n",
      "con este vehículo la ciudad implementará mi barrio móvil, que llegará a sectores de clase media con actividades para incentivar el pago del impuesto predial, tratar problemáticas como las inundaciones e impulsar desarrollos sociales, entre otrasen esta oficina rodante se imparten además capacitaciones a ediles y miembros de juntas de acción comunal de las nueve comunas urbanas\n"
     ]
    }
   ],
   "source": [
    "for i in results:\n",
    "    print(\"-----------------\")\n",
    "    print( i )"
   ]
  },
  {
   "cell_type": "code",
   "execution_count": 33,
   "metadata": {},
   "outputs": [],
   "source": [
    "sentences , clean_sent = getSentences( df18[:10] ) "
   ]
  },
  {
   "cell_type": "code",
   "execution_count": 34,
   "metadata": {},
   "outputs": [
    {
     "data": {
      "text/plain": [
       "'la participación comunitaria es clave en el desarrollo de una ciudad'"
      ]
     },
     "execution_count": 34,
     "metadata": {},
     "output_type": "execute_result"
    }
   ],
   "source": [
    "sentences[0]"
   ]
  },
  {
   "cell_type": "code",
   "execution_count": 35,
   "metadata": {},
   "outputs": [
    {
     "data": {
      "text/plain": [
       "'participación comunitaria clave desarrollo ciudad'"
      ]
     },
     "execution_count": 35,
     "metadata": {},
     "output_type": "execute_result"
    }
   ],
   "source": [
    "clean_sent[0]"
   ]
  },
  {
   "cell_type": "code",
   "execution_count": 36,
   "metadata": {},
   "outputs": [
    {
     "data": {
      "text/plain": [
       "172"
      ]
     },
     "execution_count": 36,
     "metadata": {},
     "output_type": "execute_result"
    }
   ],
   "source": [
    "len( sentences )"
   ]
  },
  {
   "cell_type": "code",
   "execution_count": 38,
   "metadata": {},
   "outputs": [],
   "source": [
    "aa = getVectorSentence( clean_sent )"
   ]
  },
  {
   "cell_type": "code",
   "execution_count": 39,
   "metadata": {},
   "outputs": [
    {
     "data": {
      "text/plain": [
       "172"
      ]
     },
     "execution_count": 39,
     "metadata": {},
     "output_type": "execute_result"
    }
   ],
   "source": [
    "len(aa)"
   ]
  },
  {
   "cell_type": "code",
   "execution_count": 41,
   "metadata": {},
   "outputs": [
    {
     "data": {
      "text/plain": [
       "array([ 1.09147802e-01, -5.10328040e-02,  3.25959967e-03, -4.04644012e-02,\n",
       "        4.18063961e-02, -9.35776010e-02, -2.37913989e-02, -5.26791997e-02,\n",
       "        2.97995992e-02,  5.90199977e-03,  1.45914005e-02,  1.94760002e-02,\n",
       "       -2.59681996e-02,  8.47559981e-03, -9.20999981e-03,  1.38991997e-02,\n",
       "       -1.96471997e-02,  3.57517973e-02,  8.64100084e-03,  1.47193996e-02,\n",
       "       -4.04519998e-02, -7.56088048e-02, -2.80644037e-02,  2.92622000e-02,\n",
       "       -5.01572005e-02,  1.95996016e-02, -1.02007605e-01,  5.67450002e-02,\n",
       "       -4.85080015e-03,  2.00213995e-02,  2.90832017e-02, -2.72318013e-02,\n",
       "       -1.22296000e-02,  2.03514006e-02,  2.08784007e-02,  4.26991992e-02,\n",
       "       -4.10230011e-02, -5.00921980e-02, -6.84002042e-02, -2.41908003e-02,\n",
       "        1.67753994e-02,  8.37909952e-02, -4.30670008e-02, -1.00653991e-02,\n",
       "       -3.48439999e-02, -3.00463997e-02,  1.44697996e-02, -2.78160013e-02,\n",
       "       -3.93658020e-02,  3.45095992e-02, -2.84419977e-03,  7.73780048e-03,\n",
       "       -3.29587981e-02,  1.91890001e-02, -2.35800073e-03,  4.43971977e-02,\n",
       "       -4.84746024e-02, -6.58874065e-02, -3.65029983e-02, -1.13046002e-02,\n",
       "       -5.67452013e-02, -1.81632005e-02, -3.55860032e-02,  1.59640016e-03,\n",
       "       -3.77376005e-02,  6.88560028e-03, -2.14949995e-02,  1.35968002e-02,\n",
       "       -8.29650015e-02,  4.46588024e-02, -5.19575961e-02, -2.11053994e-02,\n",
       "        1.71214007e-02,  4.93388027e-02,  1.18525997e-02,  5.89383952e-02,\n",
       "       -3.49744037e-02, -5.59219951e-03, -8.23673978e-02, -8.72619897e-02,\n",
       "       -2.92279981e-02, -9.25192013e-02,  1.89772006e-02, -2.93853991e-02,\n",
       "        3.47011983e-02, -8.94600004e-02,  6.69810027e-02, -2.57392023e-02,\n",
       "        1.56747997e-02, -8.14999628e-04,  1.13789989e-02, -7.70500004e-02,\n",
       "       -2.37717982e-02,  8.78966004e-02, -6.54685944e-02, -2.27594003e-02,\n",
       "       -2.21330021e-02, -7.13480031e-03,  2.95380037e-03, -4.31160023e-03,\n",
       "       -7.47125968e-02, -8.39442015e-02, -2.95742005e-02,  4.92226034e-02,\n",
       "       -2.43822001e-02, -5.33712022e-02, -2.50188001e-02, -2.11140011e-02,\n",
       "       -1.14372000e-02,  5.62262014e-02,  1.87737998e-02,  3.34169976e-02,\n",
       "        2.02735998e-02,  4.15224023e-02, -4.24709991e-02, -3.70457992e-02,\n",
       "       -2.86669973e-02, -8.13528001e-02, -4.21051979e-02, -3.89159992e-02,\n",
       "       -2.14061998e-02, -9.71619971e-03,  6.76262006e-02, -6.26759976e-02,\n",
       "        5.69363944e-02,  9.84699838e-03,  6.08062036e-02, -3.96207981e-02,\n",
       "       -8.15420039e-03,  8.21839925e-03,  8.13120008e-02,  1.71585996e-02,\n",
       "       -3.26068029e-02, -1.23202000e-02,  1.82204004e-02, -3.79440002e-02,\n",
       "       -5.13715968e-02, -6.34319987e-03,  7.57782012e-02,  1.05187986e-02,\n",
       "       -4.54550013e-02, -6.57714009e-02, -3.93944010e-02, -9.53839906e-03,\n",
       "       -5.42145967e-02, -4.20538001e-02,  2.98076011e-02, -4.54294011e-02,\n",
       "        9.99948010e-02, -5.97880036e-03,  5.08057997e-02,  2.33845990e-02,\n",
       "       -2.14125998e-02, -5.59151992e-02, -4.12707962e-02,  1.03128003e-02,\n",
       "        6.94129989e-02,  7.06345960e-02, -4.49585989e-02, -5.63019980e-03,\n",
       "       -3.55735980e-02, -7.14742020e-02, -5.29720001e-02,  4.03743982e-02,\n",
       "       -3.11421994e-02, -1.42296003e-02, -6.01579994e-03,  4.59298007e-02,\n",
       "       -4.61660046e-03, -1.35953994e-02, -4.43005972e-02, -1.61603987e-02,\n",
       "        3.44903991e-02,  3.25048007e-02,  6.10244051e-02, -7.12440023e-03,\n",
       "        6.26726002e-02, -2.39957999e-02, -7.27275982e-02,  9.89602059e-02,\n",
       "        1.61016006e-02,  8.26755986e-02,  7.38816038e-02,  8.19820017e-02,\n",
       "       -4.89655994e-02,  6.55528009e-02, -6.94547966e-02, -1.11889997e-02,\n",
       "       -2.70330012e-02, -4.81403992e-02,  3.10546011e-02,  3.49109992e-02,\n",
       "        1.54435989e-02, -2.63890028e-02, -3.09235994e-02,  1.05002202e-01,\n",
       "        5.19359997e-03,  7.63100013e-03,  1.32954000e-02,  8.21646005e-02,\n",
       "       -4.21428010e-02, -2.14513987e-02,  3.94118018e-02,  8.34920071e-03,\n",
       "        1.69126000e-02,  5.00163957e-02, -7.13400021e-02,  4.58821990e-02,\n",
       "       -3.50980088e-03,  4.07143980e-02, -1.28071398e-01, -5.40959947e-02,\n",
       "        6.06191978e-02, -3.79425995e-02,  5.21470010e-02, -8.65327939e-02,\n",
       "       -7.91262016e-02,  2.49211993e-02, -5.36892004e-02,  1.39130000e-02,\n",
       "        2.26140004e-02,  1.25649991e-02, -3.71199995e-02, -4.98779956e-03,\n",
       "       -5.69819994e-02,  2.22808030e-02, -5.92419971e-03,  4.40209955e-02,\n",
       "       -2.81913988e-02, -9.65099968e-03,  1.33960007e-03,  1.58025976e-02,\n",
       "        9.07758027e-02, -3.03718001e-02,  2.83613987e-02,  3.78482006e-02,\n",
       "        1.83000006e-02,  1.62397996e-02, -2.02162005e-02,  1.89572014e-02,\n",
       "        1.08535603e-01,  5.77599974e-03,  1.00924000e-02, -1.46239996e-02,\n",
       "       -3.28148007e-02, -5.74043989e-02,  3.61343995e-02,  1.11517981e-02,\n",
       "        1.46600010e-03,  7.24063963e-02,  6.08856082e-02,  4.98040067e-03,\n",
       "        4.63120006e-02,  1.50968004e-02,  3.07215992e-02, -5.15773967e-02,\n",
       "       -1.96340005e-03, -1.29701998e-02, -4.66313995e-02, -2.43972000e-02,\n",
       "        4.89947982e-02,  1.27381802e-01,  4.47120052e-03, -5.90899996e-02,\n",
       "       -1.48697998e-02,  6.66442066e-02, -6.47846013e-02,  3.76360007e-02,\n",
       "       -1.61445998e-02,  7.58637935e-02,  1.82500039e-03,  7.32298046e-02,\n",
       "        1.66804008e-02,  4.37525995e-02, -2.15005986e-02, -1.72352009e-02,\n",
       "        7.39180064e-03, -3.51200020e-03,  3.66545990e-02, -5.20295985e-02,\n",
       "       -1.38255000e-01, -1.73530001e-02,  1.97293963e-02,  2.74282005e-02,\n",
       "        1.68276995e-01,  2.01664008e-02,  9.96451974e-02,  4.51519974e-02,\n",
       "        4.10827994e-02, -2.06710007e-02,  1.71427988e-02, -1.39999902e-05,\n",
       "       -6.05484024e-02, -7.41439918e-03, -1.21472012e-02, -3.91521975e-02,\n",
       "       -1.36682000e-02, -1.92364007e-02,  4.72579803e-03,  2.79919989e-02],\n",
       "      dtype=float32)"
      ]
     },
     "execution_count": 41,
     "metadata": {},
     "output_type": "execute_result"
    }
   ],
   "source": [
    "aa[0]"
   ]
  },
  {
   "cell_type": "code",
   "execution_count": null,
   "metadata": {},
   "outputs": [],
   "source": []
  }
 ],
 "metadata": {
  "kernelspec": {
   "display_name": "Python 2",
   "language": "python",
   "name": "python2"
  },
  "language_info": {
   "codemirror_mode": {
    "name": "ipython",
    "version": 3
   },
   "file_extension": ".py",
   "mimetype": "text/x-python",
   "name": "python",
   "nbconvert_exporter": "python",
   "pygments_lexer": "ipython3",
   "version": "3.5.2"
  }
 },
 "nbformat": 4,
 "nbformat_minor": 2
}
